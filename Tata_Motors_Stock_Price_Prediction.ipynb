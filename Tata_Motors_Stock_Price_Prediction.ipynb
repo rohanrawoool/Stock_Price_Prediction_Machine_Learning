{
 "cells": [
  {
   "cell_type": "markdown",
   "id": "b2d66de2",
   "metadata": {},
   "source": [
    "# Importing Required Liabraries"
   ]
  },
  {
   "cell_type": "code",
   "execution_count": 2,
   "id": "b6d0c91c",
   "metadata": {},
   "outputs": [],
   "source": [
    "import pandas as pd\n",
    "import numpy as np\n",
    "import seaborn as sns\n",
    "import matplotlib.pyplot as plt\n",
    "import warnings\n",
    "warnings.filterwarnings(\"ignore\")"
   ]
  },
  {
   "cell_type": "code",
   "execution_count": 3,
   "id": "868a5337",
   "metadata": {},
   "outputs": [],
   "source": [
    "#Reading Dataset"
   ]
  },
  {
   "cell_type": "code",
   "execution_count": 4,
   "id": "a3a62e02",
   "metadata": {},
   "outputs": [
    {
     "data": {
      "text/html": [
       "<div>\n",
       "<style scoped>\n",
       "    .dataframe tbody tr th:only-of-type {\n",
       "        vertical-align: middle;\n",
       "    }\n",
       "\n",
       "    .dataframe tbody tr th {\n",
       "        vertical-align: top;\n",
       "    }\n",
       "\n",
       "    .dataframe thead th {\n",
       "        text-align: right;\n",
       "    }\n",
       "</style>\n",
       "<table border=\"1\" class=\"dataframe\">\n",
       "  <thead>\n",
       "    <tr style=\"text-align: right;\">\n",
       "      <th></th>\n",
       "      <th>Date</th>\n",
       "      <th>Open</th>\n",
       "      <th>High</th>\n",
       "      <th>Low</th>\n",
       "      <th>Close</th>\n",
       "      <th>Adj Close</th>\n",
       "      <th>Volume</th>\n",
       "    </tr>\n",
       "  </thead>\n",
       "  <tbody>\n",
       "    <tr>\n",
       "      <th>0</th>\n",
       "      <td>2021-07-05</td>\n",
       "      <td>347.049988</td>\n",
       "      <td>350.100006</td>\n",
       "      <td>344.000000</td>\n",
       "      <td>346.100006</td>\n",
       "      <td>346.100006</td>\n",
       "      <td>18399524</td>\n",
       "    </tr>\n",
       "    <tr>\n",
       "      <th>1</th>\n",
       "      <td>2021-07-06</td>\n",
       "      <td>348.000000</td>\n",
       "      <td>358.200012</td>\n",
       "      <td>311.500000</td>\n",
       "      <td>316.899994</td>\n",
       "      <td>316.899994</td>\n",
       "      <td>164083830</td>\n",
       "    </tr>\n",
       "    <tr>\n",
       "      <th>2</th>\n",
       "      <td>2021-07-07</td>\n",
       "      <td>316.000000</td>\n",
       "      <td>319.100006</td>\n",
       "      <td>306.250000</td>\n",
       "      <td>317.100006</td>\n",
       "      <td>317.100006</td>\n",
       "      <td>112183313</td>\n",
       "    </tr>\n",
       "    <tr>\n",
       "      <th>3</th>\n",
       "      <td>2021-07-08</td>\n",
       "      <td>314.799988</td>\n",
       "      <td>314.799988</td>\n",
       "      <td>305.000000</td>\n",
       "      <td>306.350006</td>\n",
       "      <td>306.350006</td>\n",
       "      <td>87360324</td>\n",
       "    </tr>\n",
       "    <tr>\n",
       "      <th>4</th>\n",
       "      <td>2021-07-09</td>\n",
       "      <td>305.799988</td>\n",
       "      <td>308.850006</td>\n",
       "      <td>301.850006</td>\n",
       "      <td>306.299988</td>\n",
       "      <td>306.299988</td>\n",
       "      <td>48807214</td>\n",
       "    </tr>\n",
       "  </tbody>\n",
       "</table>\n",
       "</div>"
      ],
      "text/plain": [
       "         Date        Open        High         Low       Close   Adj Close  \\\n",
       "0  2021-07-05  347.049988  350.100006  344.000000  346.100006  346.100006   \n",
       "1  2021-07-06  348.000000  358.200012  311.500000  316.899994  316.899994   \n",
       "2  2021-07-07  316.000000  319.100006  306.250000  317.100006  317.100006   \n",
       "3  2021-07-08  314.799988  314.799988  305.000000  306.350006  306.350006   \n",
       "4  2021-07-09  305.799988  308.850006  301.850006  306.299988  306.299988   \n",
       "\n",
       "      Volume  \n",
       "0   18399524  \n",
       "1  164083830  \n",
       "2  112183313  \n",
       "3   87360324  \n",
       "4   48807214  "
      ]
     },
     "execution_count": 4,
     "metadata": {},
     "output_type": "execute_result"
    }
   ],
   "source": [
    "df = pd.read_csv(\"TATAMOTORS.NS.csv\")\n",
    "\n",
    "# Checking top 5 Records\n",
    "df.head()"
   ]
  },
  {
   "cell_type": "code",
   "execution_count": 32,
   "id": "aef424da",
   "metadata": {},
   "outputs": [
    {
     "data": {
      "text/plain": [
       "<AxesSubplot:>"
      ]
     },
     "execution_count": 32,
     "metadata": {},
     "output_type": "execute_result"
    },
    {
     "data": {
      "image/png": "[encoded data removed]",
      "text/plain": [
       "<Figure size 432x288 with 2 Axes>"
      ]
     },
     "metadata": {
      "needs_background": "light"
     },
     "output_type": "display_data"
    }
   ],
   "source": [
    "sns.heatmap(df)"
   ]
  },
  {
   "cell_type": "code",
   "execution_count": 5,
   "id": "fad310a0",
   "metadata": {},
   "outputs": [
    {
     "name": "stdout",
     "output_type": "stream",
     "text": [
      "<class 'pandas.core.frame.DataFrame'>\n",
      "RangeIndex: 248 entries, 0 to 247\n",
      "Data columns (total 7 columns):\n",
      " #   Column     Non-Null Count  Dtype  \n",
      "---  ------     --------------  -----  \n",
      " 0   Date       248 non-null    object \n",
      " 1   Open       248 non-null    float64\n",
      " 2   High       248 non-null    float64\n",
      " 3   Low        248 non-null    float64\n",
      " 4   Close      248 non-null    float64\n",
      " 5   Adj Close  248 non-null    float64\n",
      " 6   Volume     248 non-null    int64  \n",
      "dtypes: float64(5), int64(1), object(1)\n",
      "memory usage: 13.7+ KB\n"
     ]
    }
   ],
   "source": [
    "df.info()"
   ]
  },
  {
   "cell_type": "markdown",
   "id": "bc33f5af",
   "metadata": {},
   "source": [
    "* INFO:\n",
    "\n",
    "* In This Dataset we have total 247 Records.\n",
    "* Except Date Column all columns have numeric datatype.\n",
    "* There is no null/missing value present in our dataset."
   ]
  },
  {
   "cell_type": "code",
   "execution_count": 6,
   "id": "ff93a1a6",
   "metadata": {},
   "outputs": [
    {
     "data": {
      "text/html": [
       "<div>\n",
       "<style scoped>\n",
       "    .dataframe tbody tr th:only-of-type {\n",
       "        vertical-align: middle;\n",
       "    }\n",
       "\n",
       "    .dataframe tbody tr th {\n",
       "        vertical-align: top;\n",
       "    }\n",
       "\n",
       "    .dataframe thead th {\n",
       "        text-align: right;\n",
       "    }\n",
       "</style>\n",
       "<table border=\"1\" class=\"dataframe\">\n",
       "  <thead>\n",
       "    <tr style=\"text-align: right;\">\n",
       "      <th></th>\n",
       "      <th>Open</th>\n",
       "      <th>High</th>\n",
       "      <th>Low</th>\n",
       "      <th>Close</th>\n",
       "      <th>Adj Close</th>\n",
       "      <th>Volume</th>\n",
       "    </tr>\n",
       "  </thead>\n",
       "  <tbody>\n",
       "    <tr>\n",
       "      <th>count</th>\n",
       "      <td>248.000000</td>\n",
       "      <td>248.000000</td>\n",
       "      <td>248.000000</td>\n",
       "      <td>248.000000</td>\n",
       "      <td>248.000000</td>\n",
       "      <td>2.480000e+02</td>\n",
       "    </tr>\n",
       "    <tr>\n",
       "      <th>mean</th>\n",
       "      <td>418.648185</td>\n",
       "      <td>424.855243</td>\n",
       "      <td>411.253427</td>\n",
       "      <td>417.729235</td>\n",
       "      <td>417.729235</td>\n",
       "      <td>2.876586e+07</td>\n",
       "    </tr>\n",
       "    <tr>\n",
       "      <th>std</th>\n",
       "      <td>76.016049</td>\n",
       "      <td>77.314809</td>\n",
       "      <td>74.280535</td>\n",
       "      <td>75.706679</td>\n",
       "      <td>75.706679</td>\n",
       "      <td>2.357703e+07</td>\n",
       "    </tr>\n",
       "    <tr>\n",
       "      <th>min</th>\n",
       "      <td>278.500000</td>\n",
       "      <td>281.500000</td>\n",
       "      <td>268.450012</td>\n",
       "      <td>276.950012</td>\n",
       "      <td>276.950012</td>\n",
       "      <td>5.531940e+06</td>\n",
       "    </tr>\n",
       "    <tr>\n",
       "      <th>25%</th>\n",
       "      <td>340.937508</td>\n",
       "      <td>349.750008</td>\n",
       "      <td>335.112496</td>\n",
       "      <td>340.512497</td>\n",
       "      <td>340.512497</td>\n",
       "      <td>1.630408e+07</td>\n",
       "    </tr>\n",
       "    <tr>\n",
       "      <th>50%</th>\n",
       "      <td>434.399994</td>\n",
       "      <td>438.750000</td>\n",
       "      <td>427.949997</td>\n",
       "      <td>433.025009</td>\n",
       "      <td>433.025009</td>\n",
       "      <td>2.207457e+07</td>\n",
       "    </tr>\n",
       "    <tr>\n",
       "      <th>75%</th>\n",
       "      <td>484.875000</td>\n",
       "      <td>494.174996</td>\n",
       "      <td>476.187492</td>\n",
       "      <td>486.300003</td>\n",
       "      <td>486.300003</td>\n",
       "      <td>3.073090e+07</td>\n",
       "    </tr>\n",
       "    <tr>\n",
       "      <th>max</th>\n",
       "      <td>531.450012</td>\n",
       "      <td>536.700012</td>\n",
       "      <td>520.250000</td>\n",
       "      <td>530.150024</td>\n",
       "      <td>530.150024</td>\n",
       "      <td>1.979494e+08</td>\n",
       "    </tr>\n",
       "  </tbody>\n",
       "</table>\n",
       "</div>"
      ],
      "text/plain": [
       "             Open        High         Low       Close   Adj Close  \\\n",
       "count  248.000000  248.000000  248.000000  248.000000  248.000000   \n",
       "mean   418.648185  424.855243  411.253427  417.729235  417.729235   \n",
       "std     76.016049   77.314809   74.280535   75.706679   75.706679   \n",
       "min    278.500000  281.500000  268.450012  276.950012  276.950012   \n",
       "25%    340.937508  349.750008  335.112496  340.512497  340.512497   \n",
       "50%    434.399994  438.750000  427.949997  433.025009  433.025009   \n",
       "75%    484.875000  494.174996  476.187492  486.300003  486.300003   \n",
       "max    531.450012  536.700012  520.250000  530.150024  530.150024   \n",
       "\n",
       "             Volume  \n",
       "count  2.480000e+02  \n",
       "mean   2.876586e+07  \n",
       "std    2.357703e+07  \n",
       "min    5.531940e+06  \n",
       "25%    1.630408e+07  \n",
       "50%    2.207457e+07  \n",
       "75%    3.073090e+07  \n",
       "max    1.979494e+08  "
      ]
     },
     "execution_count": 6,
     "metadata": {},
     "output_type": "execute_result"
    }
   ],
   "source": [
    "# Checking Statistical report of data\n",
    "df.describe()"
   ]
  },
  {
   "cell_type": "code",
   "execution_count": 5,
   "id": "cc9fa687",
   "metadata": {},
   "outputs": [
    {
     "data": {
      "text/plain": [
       "[<matplotlib.lines.Line2D at 0x1eabc638220>]"
      ]
     },
     "execution_count": 5,
     "metadata": {},
     "output_type": "execute_result"
    },
    {
     "data": {
      "image/png": "[encoded data removed]",
      "text/plain": [
       "<Figure size 432x288 with 1 Axes>"
      ]
     },
     "metadata": {
      "needs_background": "light"
     },
     "output_type": "display_data"
    }
   ],
   "source": [
    "plt.plot(df[\"Close\"])"
   ]
  },
  {
   "cell_type": "code",
   "execution_count": 31,
   "id": "4445030c",
   "metadata": {},
   "outputs": [
    {
     "data": {
      "text/plain": [
       "<AxesSubplot:xlabel='Open', ylabel='Close'>"
      ]
     },
     "execution_count": 31,
     "metadata": {},
     "output_type": "execute_result"
    },
    {
     "data": {
      "image/png": "[encoded data removed]",
      "text/plain": [
       "<Figure size 432x288 with 1 Axes>"
      ]
     },
     "metadata": {
      "needs_background": "light"
     },
     "output_type": "display_data"
    }
   ],
   "source": [
    "sns.scatterplot(df[\"Open\"],df[\"Close\"])\n",
    "\n",
    "# There is positive relation between open-price and close the price"
   ]
  },
  {
   "cell_type": "markdown",
   "id": "e73acdf7",
   "metadata": {},
   "source": [
    "# Checking for outliers present in columns"
   ]
  },
  {
   "cell_type": "code",
   "execution_count": 17,
   "id": "d2e488a5",
   "metadata": {},
   "outputs": [
    {
     "data": {
      "text/plain": [
       "<AxesSubplot:xlabel='Open'>"
      ]
     },
     "execution_count": 17,
     "metadata": {},
     "output_type": "execute_result"
    },
    {
     "data": {
      "image/png": "[encoded data removed]",
      "text/plain": [
       "<Figure size 432x288 with 1 Axes>"
      ]
     },
     "metadata": {
      "needs_background": "light"
     },
     "output_type": "display_data"
    }
   ],
   "source": [
    "sns.boxplot(df[\"Open\"])"
   ]
  },
  {
   "cell_type": "markdown",
   "id": "3a2695c5",
   "metadata": {},
   "source": [
    "sns.boxplot(df[\"Close\"],color=\"green\")\n"
   ]
  },
  {
   "cell_type": "code",
   "execution_count": 22,
   "id": "6142dfed",
   "metadata": {},
   "outputs": [
    {
     "data": {
      "text/plain": [
       "<AxesSubplot:xlabel='High'>"
      ]
     },
     "execution_count": 22,
     "metadata": {},
     "output_type": "execute_result"
    },
    {
     "data": {
      "image/png": "[encoded data removed]",
      "text/plain": [
       "<Figure size 432x288 with 1 Axes>"
      ]
     },
     "metadata": {
      "needs_background": "light"
     },
     "output_type": "display_data"
    }
   ],
   "source": [
    "sns.boxplot(df[\"High\"],color=\"blue\")"
   ]
  },
  {
   "cell_type": "code",
   "execution_count": 24,
   "id": "c7da8458",
   "metadata": {},
   "outputs": [
    {
     "data": {
      "text/plain": [
       "<AxesSubplot:xlabel='Low'>"
      ]
     },
     "execution_count": 24,
     "metadata": {},
     "output_type": "execute_result"
    },
    {
     "data": {
      "image/png": "[encoded data removed]",
      "text/plain": [
       "<Figure size 432x288 with 1 Axes>"
      ]
     },
     "metadata": {
      "needs_background": "light"
     },
     "output_type": "display_data"
    }
   ],
   "source": [
    "sns.boxplot(df[\"Low\"],color=\"yellow\")"
   ]
  },
  {
   "cell_type": "markdown",
   "id": "e74d4a41",
   "metadata": {},
   "source": [
    "* After Understanding boxplot for all columns we know that our data is normally distributed.\n",
    "* There is no outliers present in our dataset"
   ]
  },
  {
   "cell_type": "code",
   "execution_count": 25,
   "id": "8ba8974f",
   "metadata": {},
   "outputs": [],
   "source": [
    "# Deleting unneccesary columns from dataset\n",
    "\n",
    "df.drop([\"Date\",\"Adj Close\",\"Volume\"],axis=1,inplace=True)"
   ]
  },
  {
   "cell_type": "code",
   "execution_count": 26,
   "id": "29b53fe2",
   "metadata": {},
   "outputs": [
    {
     "data": {
      "text/html": [
       "<div>\n",
       "<style scoped>\n",
       "    .dataframe tbody tr th:only-of-type {\n",
       "        vertical-align: middle;\n",
       "    }\n",
       "\n",
       "    .dataframe tbody tr th {\n",
       "        vertical-align: top;\n",
       "    }\n",
       "\n",
       "    .dataframe thead th {\n",
       "        text-align: right;\n",
       "    }\n",
       "</style>\n",
       "<table border=\"1\" class=\"dataframe\">\n",
       "  <thead>\n",
       "    <tr style=\"text-align: right;\">\n",
       "      <th></th>\n",
       "      <th>Open</th>\n",
       "      <th>High</th>\n",
       "      <th>Low</th>\n",
       "      <th>Close</th>\n",
       "    </tr>\n",
       "  </thead>\n",
       "  <tbody>\n",
       "    <tr>\n",
       "      <th>0</th>\n",
       "      <td>347.049988</td>\n",
       "      <td>350.100006</td>\n",
       "      <td>344.000000</td>\n",
       "      <td>346.100006</td>\n",
       "    </tr>\n",
       "    <tr>\n",
       "      <th>1</th>\n",
       "      <td>348.000000</td>\n",
       "      <td>358.200012</td>\n",
       "      <td>311.500000</td>\n",
       "      <td>316.899994</td>\n",
       "    </tr>\n",
       "    <tr>\n",
       "      <th>2</th>\n",
       "      <td>316.000000</td>\n",
       "      <td>319.100006</td>\n",
       "      <td>306.250000</td>\n",
       "      <td>317.100006</td>\n",
       "    </tr>\n",
       "    <tr>\n",
       "      <th>3</th>\n",
       "      <td>314.799988</td>\n",
       "      <td>314.799988</td>\n",
       "      <td>305.000000</td>\n",
       "      <td>306.350006</td>\n",
       "    </tr>\n",
       "    <tr>\n",
       "      <th>4</th>\n",
       "      <td>305.799988</td>\n",
       "      <td>308.850006</td>\n",
       "      <td>301.850006</td>\n",
       "      <td>306.299988</td>\n",
       "    </tr>\n",
       "  </tbody>\n",
       "</table>\n",
       "</div>"
      ],
      "text/plain": [
       "         Open        High         Low       Close\n",
       "0  347.049988  350.100006  344.000000  346.100006\n",
       "1  348.000000  358.200012  311.500000  316.899994\n",
       "2  316.000000  319.100006  306.250000  317.100006\n",
       "3  314.799988  314.799988  305.000000  306.350006\n",
       "4  305.799988  308.850006  301.850006  306.299988"
      ]
     },
     "execution_count": 26,
     "metadata": {},
     "output_type": "execute_result"
    }
   ],
   "source": [
    "df.head() # Final Dataset"
   ]
  },
  {
   "cell_type": "code",
   "execution_count": 28,
   "id": "0fbd2e14",
   "metadata": {},
   "outputs": [
    {
     "name": "stdout",
     "output_type": "stream",
     "text": [
      "<class 'pandas.core.frame.DataFrame'>\n",
      "RangeIndex: 248 entries, 0 to 247\n",
      "Data columns (total 4 columns):\n",
      " #   Column  Non-Null Count  Dtype  \n",
      "---  ------  --------------  -----  \n",
      " 0   Open    248 non-null    float64\n",
      " 1   High    248 non-null    float64\n",
      " 2   Low     248 non-null    float64\n",
      " 3   Close   248 non-null    float64\n",
      "dtypes: float64(4)\n",
      "memory usage: 7.9 KB\n"
     ]
    }
   ],
   "source": [
    "df.info()\n",
    "\n",
    "# in final datset we have all the columns with numeric type\n"
   ]
  },
  {
   "cell_type": "code",
   "execution_count": null,
   "id": "729dfa44",
   "metadata": {},
   "outputs": [],
   "source": []
  },
  {
   "cell_type": "code",
   "execution_count": null,
   "id": "a20eecdb",
   "metadata": {},
   "outputs": [],
   "source": []
  },
  {
   "cell_type": "markdown",
   "id": "9f6b8248",
   "metadata": {},
   "source": [
    "# Model Building Process"
   ]
  },
  {
   "cell_type": "code",
   "execution_count": 29,
   "id": "6fc64970",
   "metadata": {},
   "outputs": [
    {
     "data": {
      "text/html": [
       "<div>\n",
       "<style scoped>\n",
       "    .dataframe tbody tr th:only-of-type {\n",
       "        vertical-align: middle;\n",
       "    }\n",
       "\n",
       "    .dataframe tbody tr th {\n",
       "        vertical-align: top;\n",
       "    }\n",
       "\n",
       "    .dataframe thead th {\n",
       "        text-align: right;\n",
       "    }\n",
       "</style>\n",
       "<table border=\"1\" class=\"dataframe\">\n",
       "  <thead>\n",
       "    <tr style=\"text-align: right;\">\n",
       "      <th></th>\n",
       "      <th>Open</th>\n",
       "      <th>High</th>\n",
       "      <th>Low</th>\n",
       "    </tr>\n",
       "  </thead>\n",
       "  <tbody>\n",
       "    <tr>\n",
       "      <th>0</th>\n",
       "      <td>347.049988</td>\n",
       "      <td>350.100006</td>\n",
       "      <td>344.000000</td>\n",
       "    </tr>\n",
       "    <tr>\n",
       "      <th>1</th>\n",
       "      <td>348.000000</td>\n",
       "      <td>358.200012</td>\n",
       "      <td>311.500000</td>\n",
       "    </tr>\n",
       "    <tr>\n",
       "      <th>2</th>\n",
       "      <td>316.000000</td>\n",
       "      <td>319.100006</td>\n",
       "      <td>306.250000</td>\n",
       "    </tr>\n",
       "    <tr>\n",
       "      <th>3</th>\n",
       "      <td>314.799988</td>\n",
       "      <td>314.799988</td>\n",
       "      <td>305.000000</td>\n",
       "    </tr>\n",
       "    <tr>\n",
       "      <th>4</th>\n",
       "      <td>305.799988</td>\n",
       "      <td>308.850006</td>\n",
       "      <td>301.850006</td>\n",
       "    </tr>\n",
       "    <tr>\n",
       "      <th>...</th>\n",
       "      <td>...</td>\n",
       "      <td>...</td>\n",
       "      <td>...</td>\n",
       "    </tr>\n",
       "    <tr>\n",
       "      <th>243</th>\n",
       "      <td>417.549988</td>\n",
       "      <td>419.450012</td>\n",
       "      <td>412.350006</td>\n",
       "    </tr>\n",
       "    <tr>\n",
       "      <th>244</th>\n",
       "      <td>411.299988</td>\n",
       "      <td>418.200012</td>\n",
       "      <td>409.149994</td>\n",
       "    </tr>\n",
       "    <tr>\n",
       "      <th>245</th>\n",
       "      <td>412.049988</td>\n",
       "      <td>419.899994</td>\n",
       "      <td>411.549988</td>\n",
       "    </tr>\n",
       "    <tr>\n",
       "      <th>246</th>\n",
       "      <td>418.299988</td>\n",
       "      <td>424.000000</td>\n",
       "      <td>410.000000</td>\n",
       "    </tr>\n",
       "    <tr>\n",
       "      <th>247</th>\n",
       "      <td>410.649994</td>\n",
       "      <td>414.600006</td>\n",
       "      <td>402.299988</td>\n",
       "    </tr>\n",
       "  </tbody>\n",
       "</table>\n",
       "<p>248 rows × 3 columns</p>\n",
       "</div>"
      ],
      "text/plain": [
       "           Open        High         Low\n",
       "0    347.049988  350.100006  344.000000\n",
       "1    348.000000  358.200012  311.500000\n",
       "2    316.000000  319.100006  306.250000\n",
       "3    314.799988  314.799988  305.000000\n",
       "4    305.799988  308.850006  301.850006\n",
       "..          ...         ...         ...\n",
       "243  417.549988  419.450012  412.350006\n",
       "244  411.299988  418.200012  409.149994\n",
       "245  412.049988  419.899994  411.549988\n",
       "246  418.299988  424.000000  410.000000\n",
       "247  410.649994  414.600006  402.299988\n",
       "\n",
       "[248 rows x 3 columns]"
      ]
     },
     "execution_count": 29,
     "metadata": {},
     "output_type": "execute_result"
    }
   ],
   "source": [
    "# Seperating x and y \n",
    "# Where x contains all the features \n",
    "# y contains output/target column values.\n",
    "\n",
    "x = df.iloc[:,:-1]\n",
    "x"
   ]
  },
  {
   "cell_type": "code",
   "execution_count": 30,
   "id": "ece444bf",
   "metadata": {},
   "outputs": [
    {
     "data": {
      "text/plain": [
       "0      346.100006\n",
       "1      316.899994\n",
       "2      317.100006\n",
       "3      306.350006\n",
       "4      306.299988\n",
       "          ...    \n",
       "243    414.500000\n",
       "244    417.100006\n",
       "245    416.950012\n",
       "246    411.799988\n",
       "247    412.700012\n",
       "Name: Close, Length: 248, dtype: float64"
      ]
     },
     "execution_count": 30,
     "metadata": {},
     "output_type": "execute_result"
    }
   ],
   "source": [
    "y = df[\"Close\"]\n",
    "y"
   ]
  },
  {
   "cell_type": "markdown",
   "id": "b2e44b3f",
   "metadata": {},
   "source": [
    "# About Model Selection\n",
    "\n",
    "* This is supervised machine learning regression problem.\n",
    "* Our Data is linearly well seperable and there is positive relationship between our features.\n",
    "* Using linear regression model we are getting better result comparing other algorithms we choose final model on Linear Regression Alogorithm."
   ]
  },
  {
   "cell_type": "markdown",
   "id": "a97f0fc1",
   "metadata": {},
   "source": [
    "# Linear Regression Model"
   ]
  },
  {
   "cell_type": "code",
   "execution_count": 35,
   "id": "3072300b",
   "metadata": {},
   "outputs": [],
   "source": [
    "# Passing the data for training and testing\n",
    "\n",
    "from sklearn.model_selection import train_test_split\n",
    "\n",
    "xtrain,xtest,ytrain,ytest = train_test_split(x,y,test_size=0.3,random_state=1)"
   ]
  },
  {
   "cell_type": "code",
   "execution_count": 36,
   "id": "55568b0a",
   "metadata": {},
   "outputs": [
    {
     "data": {
      "text/plain": [
       "array([413.00546728, 406.96504341, 382.29031534, 445.12983241,\n",
       "       511.17264181, 430.6602005 , 328.03322172, 486.74643353,\n",
       "       431.92409332, 304.96073379, 498.22377293, 499.28020363,\n",
       "       490.21052228, 489.69814509, 422.85205529, 479.09887092,\n",
       "       437.92984065, 309.8357469 , 305.20826631, 485.43086301,\n",
       "       442.28442306, 273.05658737, 473.08218679, 437.70143699,\n",
       "       466.25099514, 462.88841619, 414.714213  , 480.21165763,\n",
       "       292.4252562 , 419.28859245, 428.4397784 , 292.5200428 ,\n",
       "       340.39844583, 410.37780581, 473.69222986, 500.16420246,\n",
       "       287.33635212, 294.02686668, 298.01329789, 405.49982089,\n",
       "       478.73337688, 296.35261746, 457.73221821, 434.37249342,\n",
       "       278.56116361, 521.80559695, 287.46762156, 302.97431069,\n",
       "       304.97158338, 346.79861782, 423.00351208, 477.5994699 ,\n",
       "       429.6143379 , 502.63420378, 500.22808177, 468.86030992,\n",
       "       509.97938809, 306.30415494, 285.59074576, 388.70363248,\n",
       "       405.62992807, 458.25842653, 456.96817662, 391.88185434,\n",
       "       298.47693729, 437.00380472, 294.25576495, 484.63917252,\n",
       "       402.10748902, 511.77503252, 509.70033996, 414.46598794,\n",
       "       397.47047135, 444.21224417, 433.11792958])"
      ]
     },
     "execution_count": 36,
     "metadata": {},
     "output_type": "execute_result"
    }
   ],
   "source": [
    "#Final Model\n",
    "from sklearn.linear_model import LinearRegression\n",
    "\n",
    "# Object for Linear Regression class\n",
    "lr = LinearRegression()\n",
    "\n",
    "# fitting trainig data\n",
    "lr.fit(xtrain,ytrain)\n",
    "\n",
    "# fitting prediction data\n",
    "ypred = lr.predict(xtest)\n",
    "\n",
    "ypred"
   ]
  },
  {
   "cell_type": "code",
   "execution_count": 37,
   "id": "7a45fbc3",
   "metadata": {},
   "outputs": [
    {
     "data": {
      "text/html": [
       "<div>\n",
       "<style scoped>\n",
       "    .dataframe tbody tr th:only-of-type {\n",
       "        vertical-align: middle;\n",
       "    }\n",
       "\n",
       "    .dataframe tbody tr th {\n",
       "        vertical-align: top;\n",
       "    }\n",
       "\n",
       "    .dataframe thead th {\n",
       "        text-align: right;\n",
       "    }\n",
       "</style>\n",
       "<table border=\"1\" class=\"dataframe\">\n",
       "  <thead>\n",
       "    <tr style=\"text-align: right;\">\n",
       "      <th></th>\n",
       "      <th>Actual</th>\n",
       "      <th>Predicted</th>\n",
       "    </tr>\n",
       "  </thead>\n",
       "  <tbody>\n",
       "    <tr>\n",
       "      <th>67</th>\n",
       "      <td>415.750000</td>\n",
       "      <td>413.005467</td>\n",
       "    </tr>\n",
       "    <tr>\n",
       "      <th>247</th>\n",
       "      <td>412.700012</td>\n",
       "      <td>406.965043</td>\n",
       "    </tr>\n",
       "    <tr>\n",
       "      <th>210</th>\n",
       "      <td>388.149994</td>\n",
       "      <td>382.290315</td>\n",
       "    </tr>\n",
       "    <tr>\n",
       "      <th>224</th>\n",
       "      <td>443.549988</td>\n",
       "      <td>445.129832</td>\n",
       "    </tr>\n",
       "    <tr>\n",
       "      <th>90</th>\n",
       "      <td>505.450012</td>\n",
       "      <td>511.172642</td>\n",
       "    </tr>\n",
       "    <tr>\n",
       "      <th>...</th>\n",
       "      <td>...</td>\n",
       "      <td>...</td>\n",
       "    </tr>\n",
       "    <tr>\n",
       "      <th>88</th>\n",
       "      <td>503.450012</td>\n",
       "      <td>509.700340</td>\n",
       "    </tr>\n",
       "    <tr>\n",
       "      <th>171</th>\n",
       "      <td>418.149994</td>\n",
       "      <td>414.465988</td>\n",
       "    </tr>\n",
       "    <tr>\n",
       "      <th>236</th>\n",
       "      <td>392.950012</td>\n",
       "      <td>397.470471</td>\n",
       "    </tr>\n",
       "    <tr>\n",
       "      <th>114</th>\n",
       "      <td>447.049988</td>\n",
       "      <td>444.212244</td>\n",
       "    </tr>\n",
       "    <tr>\n",
       "      <th>177</th>\n",
       "      <td>440.350006</td>\n",
       "      <td>433.117930</td>\n",
       "    </tr>\n",
       "  </tbody>\n",
       "</table>\n",
       "<p>75 rows × 2 columns</p>\n",
       "</div>"
      ],
      "text/plain": [
       "         Actual   Predicted\n",
       "67   415.750000  413.005467\n",
       "247  412.700012  406.965043\n",
       "210  388.149994  382.290315\n",
       "224  443.549988  445.129832\n",
       "90   505.450012  511.172642\n",
       "..          ...         ...\n",
       "88   503.450012  509.700340\n",
       "171  418.149994  414.465988\n",
       "236  392.950012  397.470471\n",
       "114  447.049988  444.212244\n",
       "177  440.350006  433.117930\n",
       "\n",
       "[75 rows x 2 columns]"
      ]
     },
     "execution_count": 37,
     "metadata": {},
     "output_type": "execute_result"
    }
   ],
   "source": [
    "#Comparision of actual and predicted values\n",
    "pd.DataFrame(data={\"Actual\":ytest,\"Predicted\":ypred})"
   ]
  },
  {
   "cell_type": "code",
   "execution_count": 43,
   "id": "393d3866",
   "metadata": {},
   "outputs": [
    {
     "name": "stdout",
     "output_type": "stream",
     "text": [
      "Accuracy of our Model: 0.9984354875341526\n"
     ]
    }
   ],
   "source": [
    "# Checking the accuracy of our model by using eveluation metrics of classification algorithm\n",
    "\n",
    "from sklearn.metrics import r2_score\n",
    "\n",
    "print(\"Accuracy of our Model:\",r2_score(ytest,ypred))"
   ]
  },
  {
   "cell_type": "code",
   "execution_count": null,
   "id": "2484cd89",
   "metadata": {},
   "outputs": [],
   "source": []
  },
  {
   "cell_type": "code",
   "execution_count": null,
   "id": "f62348d0",
   "metadata": {},
   "outputs": [],
   "source": [
    "#Passing New Observation "
   ]
  },
  {
   "cell_type": "markdown",
   "id": "2abb2960",
   "metadata": {},
   "source": [
    "# Actual Prices of Tata Motors Share taken as input\n",
    "\n",
    "Open\n",
    "411.55\n",
    "High\n",
    "414.90\n",
    "Low\n",
    "405.00\n",
    "\n",
    "Close price on 04/07/2022\n",
    "Close\n",
    "408"
   ]
  },
  {
   "cell_type": "code",
   "execution_count": 39,
   "id": "f18fb383",
   "metadata": {},
   "outputs": [
    {
     "name": "stdout",
     "output_type": "stream",
     "text": [
      "Enter Open Price: 411.55\n",
      "Enter Close Price: 414.90\n",
      "Enter Low price405\n"
     ]
    }
   ],
   "source": [
    "openp = float(input(\"Enter Open Price: \"))\n",
    "High = float(input(\"Enter Close Price: \"))\n",
    "low  = float(input(\"Enter Low price\"))"
   ]
  },
  {
   "cell_type": "code",
   "execution_count": 41,
   "id": "43765ac8",
   "metadata": {},
   "outputs": [
    {
     "data": {
      "text/plain": [
       "array([408.74019835])"
      ]
     },
     "execution_count": 41,
     "metadata": {},
     "output_type": "execute_result"
    }
   ],
   "source": [
    "lr.predict([[openp,High,low]])  \n",
    "\n",
    "# The Close Price is correctly predicted by our model"
   ]
  }
 ],
 "metadata": {
  "kernelspec": {
   "display_name": "Python 3 (ipykernel)",
   "language": "python",
   "name": "python3"
  },
  "language_info": {
   "codemirror_mode": {
    "name": "ipython",
    "version": 3
   },
   "file_extension": ".py",
   "mimetype": "text/x-python",
   "name": "python",
   "nbconvert_exporter": "python",
   "pygments_lexer": "ipython3",
   "version": "3.9.7"
  }
 },
 "nbformat": 4,
 "nbformat_minor": 5
}
